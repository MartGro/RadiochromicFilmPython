{
 "cells": [
  {
   "cell_type": "code",
   "execution_count": 18,
   "metadata": {},
   "outputs": [],
   "source": [
    "from PIL import Image\n",
    "import numpy as np\n",
    "\n",
    "#im.show()"
   ]
  },
  {
   "cell_type": "code",
   "execution_count": 19,
   "metadata": {},
   "outputs": [],
   "source": [
    "def load_image_red(name):\n",
    "    im = Image.open(name)\n",
    "    red, green, blue = im.split()\n",
    "    im = red\n",
    "    return im\n",
    "\n",
    "def image_to_numpy(image):\n",
    "    np_im = np.array(image)\n",
    "    return np.uint8(np_im)\n",
    "\n",
    "def np_hist(image):\n",
    "    hist = np.zeros(256)\n",
    "    for (x,y), value in np.ndenumerate(np_im):\n",
    "        hist[value]+=1\n",
    "    return hist\n",
    "\n",
    "def np_invert(image):\n",
    "    def i(x):\n",
    "        value = 255-x\n",
    "        return np.clip(value,0,255)\n",
    "    i = np.vectorize(i)\n",
    "    return np.uint8(i(image))\n",
    "\n",
    "    #Hohe Dosen sind hohe werte\n",
    "def scale_inverted_image(image,saturation_percentage = 99.7,underground_percentage = 10):\n",
    "    saturation = np.percentile(image, saturation_percentage)\n",
    "    underground = np.percentile(image, underground_percentage)\n",
    "    \n",
    "    def scale_elements(x):\n",
    "        x =  (x-underground)*(255/(saturation-underground))\n",
    "        return np.clip(x,0,255)\n",
    "        \n",
    "    scale_elements = np.vectorize(scale_elements)\n",
    "    return np.uint8(scale_elements(image))\n",
    "\n",
    "def exponential_scale_image(image):\n",
    "        import math\n",
    "        def scale_elements(x):\n",
    "            x = math.exp(x/46.01)\n",
    "            return np.clip(x,0,255)\n",
    "        scale_elements = np.vectorize(scale_elements)\n",
    "        return np.uint8(scale_elements(image))\n",
    "    \n",
    "\n",
    "\n",
    "    \n"
   ]
  },
  {
   "cell_type": "code",
   "execution_count": 20,
   "metadata": {},
   "outputs": [
    {
     "data": {
      "text/plain": [
       "234.00343542795153"
      ]
     },
     "execution_count": 20,
     "metadata": {},
     "output_type": "execute_result"
    }
   ],
   "source": [
    "def t_scale_elements(x):\n",
    "        import math\n",
    "        x = math.exp(x/46.01)\n",
    "        return np.clip(x,0,255)\n",
    "        \n",
    "t_scale_elements(251)"
   ]
  },
  {
   "cell_type": "code",
   "execution_count": 21,
   "metadata": {},
   "outputs": [],
   "source": [
    "\n",
    "def exp_image(path):\n",
    "    image = load_image_red(path)\n",
    "\n",
    "    np_im = image_to_numpy(image)\n",
    "\n",
    "    np_inv = np_invert(np_im)\n",
    "\n",
    "    np_scaled = scale_inverted_image(np_inv,underground_percentage=50,saturation_percentage=99.7)\n",
    "\n",
    "    np_exponential = exponential_scale_image(np_scaled)\n",
    "    \n",
    "    return Image.fromarray(np_exponential, 'L')\n",
    "\n",
    "def showpreview(img,basewidth=900):\n",
    "    wpercent = (basewidth/float(img.size[0]))\n",
    "    hsize = int((float(img.size[1])*float(wpercent)))\n",
    "    img = img.resize((basewidth,hsize), Image.ANTIALIAS)\n",
    "    img.show()\n"
   ]
  },
  {
   "cell_type": "code",
   "execution_count": 22,
   "metadata": {},
   "outputs": [],
   "source": [
    "A10 = exp_image(\"/home/martin/Documents/Radiochromer_Film/ImageJ/Radiochrom_lowres/10_l.jpg\")\n",
    "A33 = exp_image(\"/home/martin/Documents/Radiochromer_Film/ImageJ/Radiochrom_lowres/33.jpg\")\n",
    "A60 = exp_image(\"/home/martin/Documents/Radiochromer_Film/ImageJ/Radiochrom_lowres/60.jpg\")\n",
    "\n",
    "\n",
    "showpreview(A10)\n",
    "showpreview(A33)\n",
    "showpreview(A60)\n",
    "    \n",
    "#img = Image.fromarray(np_exponential, 'L')\n",
    "#showpreview(img)\n",
    "#img = Image.fromarray(np_scaled, 'L')\n",
    "#showpreview(img)\n",
    "#img = Image.fromarray(np_exponential-np_scaled, 'L')\n",
    "#showpreview(img)"
   ]
  },
  {
   "cell_type": "code",
   "execution_count": 23,
   "metadata": {},
   "outputs": [],
   "source": [
    "testimage = exp_image(\"/home/martin/Downloads/Radiochrom_Testimage_2_cropped.jpg\")\n",
    "showpreview(testimage,1500)"
   ]
  },
  {
   "cell_type": "code",
   "execution_count": 24,
   "metadata": {},
   "outputs": [
    {
     "data": {
      "text/plain": [
       "array([[5, 5, 5, 5, 5],\n",
       "       [5, 5, 5, 5, 5],\n",
       "       [5, 5, 5, 5, 5],\n",
       "       [5, 5, 5, 5, 5],\n",
       "       [5, 5, 5, 5, 5],\n",
       "       [5, 5, 5, 5, 5],\n",
       "       [5, 5, 5, 5, 5],\n",
       "       [5, 5, 5, 5, 5],\n",
       "       [5, 5, 5, 5, 5],\n",
       "       [5, 5, 5, 5, 5]])"
      ]
     },
     "execution_count": 24,
     "metadata": {},
     "output_type": "execute_result"
    }
   ],
   "source": [
    "testimage = np.concatenate([np.zeros((300,150)),np.full((300,150),155)],axis = 1)\n",
    "\n",
    "t = Image.fromarray(np.uint8(testimage), 'L')\n",
    "showpreview(t)\n",
    "np.full((10,5),155)-np.full((10,5),150)"
   ]
  },
  {
   "cell_type": "code",
   "execution_count": 35,
   "metadata": {},
   "outputs": [
    {
     "name": "stdout",
     "output_type": "stream",
     "text": [
      "(1983, 1095)\n"
     ]
    },
    {
     "ename": "NameError",
     "evalue": "name 'f' is not defined",
     "output_type": "error",
     "traceback": [
      "\u001b[0;31m---------------------------------------------------------------------------\u001b[0m",
      "\u001b[0;31mNameError\u001b[0m                                 Traceback (most recent call last)",
      "\u001b[0;32m<ipython-input-35-5f875425da53>\u001b[0m in \u001b[0;36m<module>\u001b[0;34m()\u001b[0m\n\u001b[1;32m     18\u001b[0m     \u001b[0;32mreturn\u001b[0m\u001b[0;34m\u001b[0m\u001b[0m\n\u001b[1;32m     19\u001b[0m \u001b[0;34m\u001b[0m\u001b[0m\n\u001b[0;32m---> 20\u001b[0;31m \u001b[0mf\u001b[0m \u001b[0;34m=\u001b[0m \u001b[0mnp\u001b[0m\u001b[0;34m.\u001b[0m\u001b[0mvectorize\u001b[0m\u001b[0;34m(\u001b[0m\u001b[0mf\u001b[0m\u001b[0;34m)\u001b[0m  \u001b[0;31m# or use a different name if you want to keep the original f\u001b[0m\u001b[0;34m\u001b[0m\u001b[0m\n\u001b[0m\u001b[1;32m     21\u001b[0m \u001b[0;34m\u001b[0m\u001b[0m\n\u001b[1;32m     22\u001b[0m \u001b[0mresult_array\u001b[0m \u001b[0;34m=\u001b[0m \u001b[0mf\u001b[0m\u001b[0;34m(\u001b[0m\u001b[0mA\u001b[0m\u001b[0;34m)\u001b[0m  \u001b[0;31m# if A is your Numpy array\u001b[0m\u001b[0;34m\u001b[0m\u001b[0m\n",
      "\u001b[0;31mNameError\u001b[0m: name 'f' is not defined"
     ]
    }
   ],
   "source": [
    "print(np_im.shape)\n",
    "\n",
    "    \n",
    "    \n",
    "untergrund = np.argmax(hist)\n",
    "saturation = np.percentile(np_im, 0.3)\n",
    "untergrund_2 = np.percentile(np_im, 90)\n",
    "untergrund_2\n",
    "\n",
    "def invert(x):\n",
    "    \n",
    "\n",
    "def scale(x):\n",
    "    return \n",
    "\n",
    "f = np.vectorize()  # or use a different name if you want to keep the original f\n",
    "\n",
    "result_array = f(A)  # if A is your Numpy array"
   ]
  },
  {
   "cell_type": "code",
   "execution_count": 22,
   "metadata": {},
   "outputs": [
    {
     "data": {
      "image/png": "[encoded data removed]",
      "text/plain": [
       "<matplotlib.figure.Figure at 0x7f59ab63e7f0>"
      ]
     },
     "metadata": {},
     "output_type": "display_data"
    }
   ],
   "source": [
    "import matplotlib.pyplot as plt\n",
    "plt.plot(hist)\n",
    "plt.show()"
   ]
  },
  {
   "cell_type": "code",
   "execution_count": 25,
   "metadata": {},
   "outputs": [
    {
     "ename": "ModuleNotFoundError",
     "evalue": "No module named 'ij'",
     "output_type": "error",
     "traceback": [
      "\u001b[0;31m---------------------------------------------------------------------------\u001b[0m",
      "\u001b[0;31mModuleNotFoundError\u001b[0m                       Traceback (most recent call last)",
      "\u001b[0;32m<ipython-input-25-a148d9e5c213>\u001b[0m in \u001b[0;36m<module>\u001b[0;34m()\u001b[0m\n\u001b[0;32m----> 1\u001b[0;31m \u001b[0;32mimport\u001b[0m \u001b[0mij\u001b[0m\u001b[0;34m\u001b[0m\u001b[0m\n\u001b[0m",
      "\u001b[0;31mModuleNotFoundError\u001b[0m: No module named 'ij'"
     ]
    }
   ],
   "source": [
    "import ij"
   ]
  },
  {
   "cell_type": "code",
   "execution_count": null,
   "metadata": {
    "collapsed": true
   },
   "outputs": [],
   "source": []
  }
 ],
 "metadata": {
  "kernelspec": {
   "display_name": "Python 3",
   "language": "python",
   "name": "python3"
  },
  "language_info": {
   "codemirror_mode": {
    "name": "ipython",
    "version": 3
   },
   "file_extension": ".py",
   "mimetype": "text/x-python",
   "name": "python",
   "nbconvert_exporter": "python",
   "pygments_lexer": "ipython3",
   "version": "3.6.3"
  }
 },
 "nbformat": 4,
 "nbformat_minor": 2
}
