{
 "cells": [
  {
   "cell_type": "code",
   "execution_count": 57,
   "metadata": {
    "collapsed": true
   },
   "outputs": [],
   "source": [
    "import pandas as pd\n",
    "import numpy as np\n",
    "import matplotlib.pyplot as plt\n",
    "import math"
   ]
  },
  {
   "cell_type": "code",
   "execution_count": 58,
   "metadata": {},
   "outputs": [],
   "source": [
    "daten = pd.read_csv(\"/home/martin/Documents/Radiochromer_Film/EBT_CAL\",header=None,sep=\" \").as_matrix()\n",
    "origin_x = daten[0][0]\n",
    "origin_y = daten[0][1]\n",
    "x_axis = daten[2][0]\n",
    "y_axis = daten[1][1]\n",
    "\n",
    "x_origin = 0.01\n",
    "x_end = 10\n",
    "\n",
    "y_origin = 0\n",
    "y_end = 6E4\n",
    "\n",
    "delta_x = abs(x_axis - origin_x)\n",
    "delta_y = abs(y_axis - origin_y)\n",
    "\n",
    "\n",
    "daten[3:] = [i-daten[0] for i in daten[3:]]\n",
    "daten[3:] = abs(daten[3:])\n",
    "\n",
    "x_funct = lambda x: x_origin*10**((x/delta_x)*math.log10(x_end/x_origin))\n",
    "x_funct = np.vectorize(x_funct)\n",
    "\n",
    "xvals_corrected = x_funct(daten[3:,0])\n",
    "\n",
    "y_funct = lambda y: (y/delta_y)*y_end\n",
    "y_funct = np.vectorize(y_funct)\n",
    "\n",
    "yvals_corrected = y_funct(daten[3:,1])\n",
    "\n"
   ]
  },
  {
   "cell_type": "code",
   "execution_count": 55,
   "metadata": {},
   "outputs": [
    {
     "data": {
      "image/png": "[encoded data removed]",
      "text/plain": [
       "<matplotlib.figure.Figure at 0x7fe5b44140f0>"
      ]
     },
     "metadata": {},
     "output_type": "display_data"
    }
   ],
   "source": [
    "plt.clf()\n",
    "plt.plot(xvals_corrected,yvals_corrected)\n",
    "plt.show()"
   ]
  },
  {
   "cell_type": "code",
   "execution_count": 56,
   "metadata": {},
   "outputs": [
    {
     "data": {
      "image/png": "[encoded data removed]",
      "text/plain": [
       "<matplotlib.figure.Figure at 0x7fe5b4446a20>"
      ]
     },
     "metadata": {},
     "output_type": "display_data"
    }
   ],
   "source": [
    "from scipy.optimize import curve_fit\n",
    "\n",
    "def func(x, a, b, c):\n",
    "     return a * np.exp(-b * x) + c\n",
    "\n",
    "\n",
    "popt, pcov = curve_fit(func, xvals_corrected, yvals_corrected/10000)\n",
    "plt.plot(xvals_corrected, 10000*func(xvals_corrected, *popt))\n",
    "plt.plot(xvals_corrected, yvals_corrected)\n",
    "plt.xscale(\"log\")\n",
    "plt.show()"
   ]
  },
  {
   "cell_type": "code",
   "execution_count": 81,
   "metadata": {},
   "outputs": [
    {
     "name": "stdout",
     "output_type": "stream",
     "text": [
      "a: 0.6931471805599452, b: -0.6931471805599451\n"
     ]
    },
    {
     "data": {
      "text/plain": [
       "31.99999999999997"
      ]
     },
     "execution_count": 81,
     "metadata": {},
     "output_type": "execute_result"
    }
   ],
   "source": [
    "#Checking scaling behavior\n",
    "import math\n",
    "\n",
    "x_1 = 2\n",
    "y_1 = 2\n",
    "x_2 = 4\n",
    "y_2 = 8\n",
    "\n",
    "y_1_corr = math.log(y_1)\n",
    "y_2_corr = math.log(y_2)\n",
    "\n",
    "a = (y_2_corr-y_1_corr)/(x_2-x_1)\n",
    "b = y_1_corr - a* x_1\n",
    "\n",
    "print(\"a: {}, b: {}\".format(a,b))\n",
    "\n",
    "f = lambda x: math.exp(a*x+b)\n",
    "\n",
    "f()"
   ]
  },
  {
   "cell_type": "code",
   "execution_count": null,
   "metadata": {
    "collapsed": true
   },
   "outputs": [],
   "source": []
  }
 ],
 "metadata": {
  "kernelspec": {
   "display_name": "Python 3",
   "language": "python",
   "name": "python3"
  },
  "language_info": {
   "codemirror_mode": {
    "name": "ipython",
    "version": 3
   },
   "file_extension": ".py",
   "mimetype": "text/x-python",
   "name": "python",
   "nbconvert_exporter": "python",
   "pygments_lexer": "ipython3",
   "version": "3.6.3"
  }
 },
 "nbformat": 4,
 "nbformat_minor": 2
}
